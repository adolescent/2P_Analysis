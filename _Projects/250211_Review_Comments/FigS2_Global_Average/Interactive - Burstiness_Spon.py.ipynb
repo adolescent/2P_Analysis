{
 "cells": [
  {
   "cell_type": "markdown",
   "metadata": {
    "isInteractiveWindowMessageCell": true
   },
   "source": [
    "Connected to caiman (Python 3.10.8)"
   ]
  },
  {
   "cell_type": "code",
   "execution_count": 1,
   "metadata": {},
   "outputs": [
    {
     "name": "stderr",
     "output_type": "stream",
     "text": [
      "d:\\Anaconda\\envs\\caiman\\lib\\site-packages\\pandas\\core\\arrays\\masked.py:60: UserWarning: Pandas requires version '1.3.6' or newer of 'bottleneck' (version '1.3.5' currently installed).\n",
      "  from pandas.core import (\n"
     ]
    }
   ],
   "source": [
    "from Cell_Class.Stim_Calculators import Stim_Cells\n",
    "from Cell_Class.Format_Cell import Cell\n",
    "import OS_Tools_Kit as ot\n",
    "import numpy as np\n",
    "import matplotlib.pyplot as plt\n",
    "import seaborn as sns\n",
    "import pandas as pd\n",
    "from tqdm import tqdm\n",
    "import cv2\n",
    "from sklearn.model_selection import cross_val_score\n",
    "from sklearn import svm\n",
    "from scipy.stats import pearsonr\n",
    "import scipy.stats as stats\n",
    "from Cell_Class.Plot_Tools import Plot_3D_With_Labels\n",
    "import copy\n",
    "from Cell_Class.Advanced_Tools import *\n",
    "from Cell_Class.Classifier_Analyzer import *\n",
    "from Cell_Class.Timecourse_Analyzer import *\n",
    "from Review_Fix_Funcs import *\n",
    "from Filters import Signal_Filter_v2\n",
    "import warnings\n",
    "\n",
    "all_path_dic = list(ot.Get_Subfolders(r'D:\\#Fig_Data\\_All_Spon_Data_V1'))\n",
    "\n",
    "all_path_dic.pop(4)\n",
    "all_path_dic.pop(6)\n",
    "save_path = r'D:\\_GoogleDrive_Files\\#Figs\\#250211_Revision1\\FigS2'"
   ]
  },
  {
   "cell_type": "code",
   "execution_count": 2,
   "metadata": {},
   "outputs": [
    {
     "name": "stderr",
     "output_type": "stream",
     "text": [
      "649it [00:00, 2799.48it/s]\n",
      "509it [00:00, 2602.75it/s]\n",
      "524it [00:00, 3132.18it/s]\n",
      "489it [00:00, 2356.07it/s]\n",
      "619it [00:00, 2357.45it/s]\n",
      "604it [00:00, 2339.83it/s]\n",
      "678it [00:00, 2681.53it/s]\n",
      "482it [00:00, 2374.34it/s]\n"
     ]
    }
   ],
   "source": [
    "from scipy.signal import find_peaks,peak_widths\n",
    "burstiness = pd.DataFrame(columns = ['Loc','Cell','Burstiness'])\n",
    "freqs = []\n",
    "for i,cloc in enumerate(all_path_dic):\n",
    "    cloc_name = cloc.split('\\\\')[-1]\n",
    "    ac = ot.Load_Variable_v2(cloc,'Cell_Class.pkl')\n",
    "    c_spon = ot.Load_Variable(cloc,'Spon_Before.pkl')\n",
    "    spon_start = c_spon.index[0]\n",
    "    spon_end = c_spon.index[-1]\n",
    "    c_spon = Z_refilter(ac,'1-001',spon_start,spon_end).T\n",
    "    for j in range(len(ac)):\n",
    "        c_series = c_spon[:,j]\n",
    "        peaks,_ = find_peaks(c_series, height=-0.5,distance=5,prominence=1) \n",
    "        c_raster = np.zeros(len(c_series))\n",
    "        c_raster[peaks]=1\n",
    "        cc_bur = Burstiness_Index_JN(c_raster)\n",
    "        burstiness.loc[len(burstiness)] = [cloc_name,j+1,cc_bur]\n",
    "        freqs.append(len(peaks)*1.301/len(c_spon))\n",
    "freqs = np.array(freqs)\n",
    "# ot.Save_Variable(save_path,'Burstiness',burstiness)"
   ]
  },
  {
   "cell_type": "code",
   "execution_count": 3,
   "metadata": {},
   "outputs": [
    {
     "data": {
      "text/html": [
       "<div>\n",
       "<style scoped>\n",
       "    .dataframe tbody tr th:only-of-type {\n",
       "        vertical-align: middle;\n",
       "    }\n",
       "\n",
       "    .dataframe tbody tr th {\n",
       "        vertical-align: top;\n",
       "    }\n",
       "\n",
       "    .dataframe thead th {\n",
       "        text-align: right;\n",
       "    }\n",
       "</style>\n",
       "<table border=\"1\" class=\"dataframe\">\n",
       "  <thead>\n",
       "    <tr style=\"text-align: right;\">\n",
       "      <th></th>\n",
       "      <th>Loc</th>\n",
       "      <th>Cell</th>\n",
       "      <th>Burstiness</th>\n",
       "    </tr>\n",
       "  </thead>\n",
       "  <tbody>\n",
       "    <tr>\n",
       "      <th>0</th>\n",
       "      <td>L76_15A_220812</td>\n",
       "      <td>1</td>\n",
       "      <td>0.058571</td>\n",
       "    </tr>\n",
       "    <tr>\n",
       "      <th>1</th>\n",
       "      <td>L76_15A_220812</td>\n",
       "      <td>2</td>\n",
       "      <td>0.049255</td>\n",
       "    </tr>\n",
       "    <tr>\n",
       "      <th>2</th>\n",
       "      <td>L76_15A_220812</td>\n",
       "      <td>3</td>\n",
       "      <td>0.054493</td>\n",
       "    </tr>\n",
       "    <tr>\n",
       "      <th>3</th>\n",
       "      <td>L76_15A_220812</td>\n",
       "      <td>4</td>\n",
       "      <td>0.055441</td>\n",
       "    </tr>\n",
       "    <tr>\n",
       "      <th>4</th>\n",
       "      <td>L76_15A_220812</td>\n",
       "      <td>5</td>\n",
       "      <td>0.051546</td>\n",
       "    </tr>\n",
       "    <tr>\n",
       "      <th>...</th>\n",
       "      <td>...</td>\n",
       "      <td>...</td>\n",
       "      <td>...</td>\n",
       "    </tr>\n",
       "    <tr>\n",
       "      <th>4549</th>\n",
       "      <td>L91_8A_220504</td>\n",
       "      <td>478</td>\n",
       "      <td>0.072633</td>\n",
       "    </tr>\n",
       "    <tr>\n",
       "      <th>4550</th>\n",
       "      <td>L91_8A_220504</td>\n",
       "      <td>479</td>\n",
       "      <td>0.042286</td>\n",
       "    </tr>\n",
       "    <tr>\n",
       "      <th>4551</th>\n",
       "      <td>L91_8A_220504</td>\n",
       "      <td>480</td>\n",
       "      <td>0.049692</td>\n",
       "    </tr>\n",
       "    <tr>\n",
       "      <th>4552</th>\n",
       "      <td>L91_8A_220504</td>\n",
       "      <td>481</td>\n",
       "      <td>0.052003</td>\n",
       "    </tr>\n",
       "    <tr>\n",
       "      <th>4553</th>\n",
       "      <td>L91_8A_220504</td>\n",
       "      <td>482</td>\n",
       "      <td>0.103784</td>\n",
       "    </tr>\n",
       "  </tbody>\n",
       "</table>\n",
       "<p>4554 rows × 3 columns</p>\n",
       "</div>"
      ],
      "text/plain": [
       "                 Loc  Cell  Burstiness\n",
       "0     L76_15A_220812     1    0.058571\n",
       "1     L76_15A_220812     2    0.049255\n",
       "2     L76_15A_220812     3    0.054493\n",
       "3     L76_15A_220812     4    0.055441\n",
       "4     L76_15A_220812     5    0.051546\n",
       "...              ...   ...         ...\n",
       "4549   L91_8A_220504   478    0.072633\n",
       "4550   L91_8A_220504   479    0.042286\n",
       "4551   L91_8A_220504   480    0.049692\n",
       "4552   L91_8A_220504   481    0.052003\n",
       "4553   L91_8A_220504   482    0.103784\n",
       "\n",
       "[4554 rows x 3 columns]"
      ]
     },
     "execution_count": 3,
     "metadata": {},
     "output_type": "execute_result"
    }
   ],
   "source": [
    "burstiness"
   ]
  },
  {
   "cell_type": "code",
   "execution_count": 4,
   "metadata": {},
   "outputs": [
    {
     "data": {
      "text/plain": [
       "0       0.058571\n",
       "1       0.049255\n",
       "2       0.054493\n",
       "3       0.055441\n",
       "4       0.051546\n",
       "          ...   \n",
       "4549    0.072633\n",
       "4550    0.042286\n",
       "4551    0.049692\n",
       "4552    0.052003\n",
       "4553    0.103784\n",
       "Name: Burstiness, Length: 4554, dtype: float64"
      ]
     },
     "execution_count": 4,
     "metadata": {},
     "output_type": "execute_result"
    }
   ],
   "source": [
    "burstiness['Burstiness']"
   ]
  },
  {
   "cell_type": "code",
   "execution_count": 5,
   "metadata": {},
   "outputs": [
    {
     "data": {
      "text/plain": [
       "array([0.0585708 , 0.04925474, 0.05449296, ..., 0.04969208, 0.05200341,\n",
       "       0.10378419])"
      ]
     },
     "execution_count": 5,
     "metadata": {},
     "output_type": "execute_result"
    }
   ],
   "source": [
    "np.array(burstiness['Burstiness'])"
   ]
  },
  {
   "cell_type": "code",
   "execution_count": 6,
   "metadata": {},
   "outputs": [
    {
     "data": {
      "text/plain": [
       "0.06401349108613234"
      ]
     },
     "execution_count": 6,
     "metadata": {},
     "output_type": "execute_result"
    }
   ],
   "source": [
    "np.mean(burstiness['Burstiness'])"
   ]
  },
  {
   "cell_type": "code",
   "execution_count": 7,
   "metadata": {},
   "outputs": [
    {
     "data": {
      "text/plain": [
       "(array([3.423e+03, 1.086e+03, 3.200e+01, 1.000e+01, 2.000e+00, 0.000e+00,\n",
       "        0.000e+00, 0.000e+00, 0.000e+00, 1.000e+00]),\n",
       " array([0.03714331, 0.07787343, 0.11860354, 0.15933365, 0.20006377,\n",
       "        0.24079388, 0.28152399, 0.3222541 , 0.36298422, 0.40371433,\n",
       "        0.44444444]),\n",
       " <BarContainer object of 10 artists>)"
      ]
     },
     "execution_count": 7,
     "metadata": {},
     "output_type": "execute_result"
    },
    {
     "data": {
      "image/png": "[encoded data removed]",
      "text/plain": [
       "<Figure size 640x480 with 1 Axes>"
      ]
     },
     "metadata": {},
     "output_type": "display_data"
    }
   ],
   "source": [
    "plt.hist(burstiness['Burstiness'])"
   ]
  },
  {
   "cell_type": "code",
   "execution_count": 8,
   "metadata": {},
   "outputs": [
    {
     "data": {
      "text/plain": [
       "(array([1.076e+03, 1.579e+03, 5.610e+02, 4.450e+02, 5.410e+02, 2.640e+02,\n",
       "        4.300e+01, 1.800e+01, 7.000e+00, 6.000e+00, 4.000e+00, 3.000e+00,\n",
       "        1.000e+00, 3.000e+00, 0.000e+00, 0.000e+00, 1.000e+00, 1.000e+00,\n",
       "        0.000e+00, 0.000e+00, 0.000e+00, 0.000e+00, 0.000e+00, 0.000e+00,\n",
       "        0.000e+00, 0.000e+00, 0.000e+00, 0.000e+00, 0.000e+00, 0.000e+00,\n",
       "        0.000e+00, 0.000e+00, 0.000e+00, 0.000e+00, 1.000e+00]),\n",
       " array([0.03714331, 0.04878049, 0.06041766, 0.07205484, 0.08369201,\n",
       "        0.09532919, 0.10696636, 0.11860354, 0.13024071, 0.14187789,\n",
       "        0.15351506, 0.16515224, 0.17678941, 0.18842659, 0.20006377,\n",
       "        0.21170094, 0.22333812, 0.23497529, 0.24661247, 0.25824964,\n",
       "        0.26988682, 0.28152399, 0.29316117, 0.30479834, 0.31643552,\n",
       "        0.32807269, 0.33970987, 0.35134704, 0.36298422, 0.37462139,\n",
       "        0.38625857, 0.39789574, 0.40953292, 0.42117009, 0.43280727,\n",
       "        0.44444444]),\n",
       " <BarContainer object of 35 artists>)"
      ]
     },
     "execution_count": 8,
     "metadata": {},
     "output_type": "execute_result"
    },
    {
     "data": {
      "image/png": "[encoded data removed]",
      "text/plain": [
       "<Figure size 640x480 with 1 Axes>"
      ]
     },
     "metadata": {},
     "output_type": "display_data"
    }
   ],
   "source": [
    "plt.hist(burstiness['Burstiness'],bins = 35)"
   ]
  },
  {
   "cell_type": "code",
   "execution_count": 9,
   "metadata": {},
   "outputs": [
    {
     "data": {
      "text/plain": [
       "0.020652747809881924"
      ]
     },
     "execution_count": 9,
     "metadata": {},
     "output_type": "execute_result"
    }
   ],
   "source": [
    "burstiness['Burstiness'].std()"
   ]
  },
  {
   "cell_type": "code",
   "execution_count": 10,
   "metadata": {},
   "outputs": [
    {
     "data": {
      "text/plain": [
       "0.06401349108613234"
      ]
     },
     "execution_count": 10,
     "metadata": {},
     "output_type": "execute_result"
    }
   ],
   "source": [
    "burstiness['Burstiness'].mean()"
   ]
  },
  {
   "cell_type": "code",
   "execution_count": 11,
   "metadata": {},
   "outputs": [],
   "source": [
    "cc_bur = Burstiness_Index_JN(c_raster,winnum=500)"
   ]
  },
  {
   "cell_type": "code",
   "execution_count": 12,
   "metadata": {},
   "outputs": [
    {
     "data": {
      "text/plain": [
       "0.12026976395653804"
      ]
     },
     "execution_count": 12,
     "metadata": {},
     "output_type": "execute_result"
    }
   ],
   "source": [
    "cc_bur"
   ]
  },
  {
   "cell_type": "code",
   "execution_count": 13,
   "metadata": {},
   "outputs": [
    {
     "data": {
      "text/plain": [
       "785.0"
      ]
     },
     "execution_count": 13,
     "metadata": {},
     "output_type": "execute_result"
    }
   ],
   "source": [
    "c_raster.sum()"
   ]
  },
  {
   "cell_type": "code",
   "execution_count": 14,
   "metadata": {},
   "outputs": [
    {
     "name": "stderr",
     "output_type": "stream",
     "text": [
      "649it [00:00, 2500.24it/s]\n",
      "509it [00:00, 2394.23it/s]\n",
      "524it [00:00, 2832.41it/s]\n",
      "489it [00:00, 2106.17it/s]\n",
      "619it [00:00, 2142.63it/s]\n",
      "604it [00:00, 2192.48it/s]\n",
      "678it [00:00, 2534.51it/s]\n",
      "482it [00:00, 2235.49it/s]\n"
     ]
    },
    {
     "data": {
      "text/plain": [
       "True"
      ]
     },
     "execution_count": 14,
     "metadata": {},
     "output_type": "execute_result"
    }
   ],
   "source": [
    "from scipy.signal import find_peaks,peak_widths\n",
    "burstiness = pd.DataFrame(columns = ['Loc','Cell','Burstiness'])\n",
    "burstiness_rand = pd.DataFrame(columns = ['Loc','Cell','Burstiness'])\n",
    "freqs = []\n",
    "N_shuffle = 10\n",
    "for i,cloc in enumerate(all_path_dic):\n",
    "    cloc_name = cloc.split('\\\\')[-1]\n",
    "    ac = ot.Load_Variable_v2(cloc,'Cell_Class.pkl')\n",
    "    c_spon = ot.Load_Variable(cloc,'Spon_Before.pkl')\n",
    "    spon_start = c_spon.index[0]\n",
    "    spon_end = c_spon.index[-1]\n",
    "    c_spon = Z_refilter(ac,'1-001',spon_start,spon_end).T\n",
    "    for j in range(len(ac)):\n",
    "        c_series = c_spon[:,j]\n",
    "        peaks,_ = find_peaks(c_series, height=-0.5,distance=5,prominence=1) \n",
    "        c_raster = np.zeros(len(c_series))\n",
    "        c_raster[peaks]=1\n",
    "        cc_bur = Burstiness_Index_JN(c_raster,winnum=500)\n",
    "        for k in range(N_shuffle):\n",
    "            c_raster_s = Rand_Series(int(c_raster.sum()),len(c_raster))\n",
    "            cc_bur_s = Burstiness_Index_JN(c_raster,winnum=500)\n",
    "            burstiness_rand.loc[len(burstiness_rand)] = [cloc_name,j+1,cc_bur_s]\n",
    "        burstiness.loc[len(burstiness)] = [cloc_name,j+1,cc_bur]\n",
    "        freqs.append(len(peaks)*1.301/len(c_spon))\n",
    "freqs = np.array(freqs)\n",
    "ot.Save_Variable(save_path,'Burstiness_V1',burstiness)"
   ]
  },
  {
   "cell_type": "code",
   "execution_count": 15,
   "metadata": {},
   "outputs": [
    {
     "data": {
      "text/plain": [
       "True"
      ]
     },
     "execution_count": 15,
     "metadata": {},
     "output_type": "execute_result"
    }
   ],
   "source": [
    "ot.Save_Variable(save_path,'Burstiness_V1',burstiness)\n",
    "ot.Save_Variable(save_path,'Burstiness_V1_shuffle10',burstiness_rand)"
   ]
  },
  {
   "cell_type": "code",
   "execution_count": 16,
   "metadata": {},
   "outputs": [
    {
     "data": {
      "text/html": [
       "<div>\n",
       "<style scoped>\n",
       "    .dataframe tbody tr th:only-of-type {\n",
       "        vertical-align: middle;\n",
       "    }\n",
       "\n",
       "    .dataframe tbody tr th {\n",
       "        vertical-align: top;\n",
       "    }\n",
       "\n",
       "    .dataframe thead th {\n",
       "        text-align: right;\n",
       "    }\n",
       "</style>\n",
       "<table border=\"1\" class=\"dataframe\">\n",
       "  <thead>\n",
       "    <tr style=\"text-align: right;\">\n",
       "      <th></th>\n",
       "      <th>Loc</th>\n",
       "      <th>Cell</th>\n",
       "      <th>Burstiness</th>\n",
       "    </tr>\n",
       "  </thead>\n",
       "  <tbody>\n",
       "    <tr>\n",
       "      <th>0</th>\n",
       "      <td>L76_15A_220812</td>\n",
       "      <td>1</td>\n",
       "      <td>0.083844</td>\n",
       "    </tr>\n",
       "    <tr>\n",
       "      <th>1</th>\n",
       "      <td>L76_15A_220812</td>\n",
       "      <td>1</td>\n",
       "      <td>0.083844</td>\n",
       "    </tr>\n",
       "    <tr>\n",
       "      <th>2</th>\n",
       "      <td>L76_15A_220812</td>\n",
       "      <td>1</td>\n",
       "      <td>0.083844</td>\n",
       "    </tr>\n",
       "    <tr>\n",
       "      <th>3</th>\n",
       "      <td>L76_15A_220812</td>\n",
       "      <td>1</td>\n",
       "      <td>0.083844</td>\n",
       "    </tr>\n",
       "    <tr>\n",
       "      <th>4</th>\n",
       "      <td>L76_15A_220812</td>\n",
       "      <td>1</td>\n",
       "      <td>0.083844</td>\n",
       "    </tr>\n",
       "    <tr>\n",
       "      <th>...</th>\n",
       "      <td>...</td>\n",
       "      <td>...</td>\n",
       "      <td>...</td>\n",
       "    </tr>\n",
       "    <tr>\n",
       "      <th>45535</th>\n",
       "      <td>L91_8A_220504</td>\n",
       "      <td>482</td>\n",
       "      <td>0.120270</td>\n",
       "    </tr>\n",
       "    <tr>\n",
       "      <th>45536</th>\n",
       "      <td>L91_8A_220504</td>\n",
       "      <td>482</td>\n",
       "      <td>0.120270</td>\n",
       "    </tr>\n",
       "    <tr>\n",
       "      <th>45537</th>\n",
       "      <td>L91_8A_220504</td>\n",
       "      <td>482</td>\n",
       "      <td>0.120270</td>\n",
       "    </tr>\n",
       "    <tr>\n",
       "      <th>45538</th>\n",
       "      <td>L91_8A_220504</td>\n",
       "      <td>482</td>\n",
       "      <td>0.120270</td>\n",
       "    </tr>\n",
       "    <tr>\n",
       "      <th>45539</th>\n",
       "      <td>L91_8A_220504</td>\n",
       "      <td>482</td>\n",
       "      <td>0.120270</td>\n",
       "    </tr>\n",
       "  </tbody>\n",
       "</table>\n",
       "<p>45540 rows × 3 columns</p>\n",
       "</div>"
      ],
      "text/plain": [
       "                  Loc  Cell  Burstiness\n",
       "0      L76_15A_220812     1    0.083844\n",
       "1      L76_15A_220812     1    0.083844\n",
       "2      L76_15A_220812     1    0.083844\n",
       "3      L76_15A_220812     1    0.083844\n",
       "4      L76_15A_220812     1    0.083844\n",
       "...               ...   ...         ...\n",
       "45535   L91_8A_220504   482    0.120270\n",
       "45536   L91_8A_220504   482    0.120270\n",
       "45537   L91_8A_220504   482    0.120270\n",
       "45538   L91_8A_220504   482    0.120270\n",
       "45539   L91_8A_220504   482    0.120270\n",
       "\n",
       "[45540 rows x 3 columns]"
      ]
     },
     "execution_count": 16,
     "metadata": {},
     "output_type": "execute_result"
    }
   ],
   "source": [
    "burstiness_rand"
   ]
  },
  {
   "cell_type": "code",
   "execution_count": 17,
   "metadata": {},
   "outputs": [
    {
     "data": {
      "text/plain": [
       "0.08463334552321025"
      ]
     },
     "execution_count": 17,
     "metadata": {},
     "output_type": "execute_result"
    }
   ],
   "source": [
    "burstiness_rand['Burstiness'].mean()"
   ]
  },
  {
   "cell_type": "code",
   "execution_count": 18,
   "metadata": {},
   "outputs": [
    {
     "data": {
      "text/plain": [
       "0.031663927885462434"
      ]
     },
     "execution_count": 18,
     "metadata": {},
     "output_type": "execute_result"
    }
   ],
   "source": [
    "burstiness_rand['Burstiness'].std()"
   ]
  },
  {
   "cell_type": "code",
   "execution_count": 19,
   "metadata": {},
   "outputs": [
    {
     "name": "stderr",
     "output_type": "stream",
     "text": [
      "368it [00:00, 1913.48it/s]\n"
     ]
    }
   ],
   "source": [
    "all_path_dic_v2 = list(ot.Get_Subfolders(r'D:\\#Fig_Data\\_All_Spon_Data_V2'))\n",
    "burstiness_v2 = pd.DataFrame(columns = ['Loc','Cell','Burstiness'])\n",
    "burstiness_rand_v2 = pd.DataFrame(columns = ['Loc','Cell','Burstiness'])\n",
    "freqs_v2 = []\n",
    "N_shuffle = 10\n",
    "for i,cloc in enumerate(all_path_dic_v2):\n",
    "    cloc_name = cloc.split('\\\\')[-1]\n",
    "    ac = ot.Load_Variable_v2(cloc,'Cell_Class.pkl')\n",
    "    c_spon = ot.Load_Variable(cloc,'Spon_Before.pkl')\n",
    "    spon_start = c_spon.index[0]\n",
    "    spon_end = c_spon.index[-1]\n",
    "    c_spon = Z_refilter(ac,'1-001',spon_start,spon_end).T\n",
    "    for j in range(len(ac)):\n",
    "        c_series = c_spon[:,j]\n",
    "        peaks,_ = find_peaks(c_series, height=-0.5,distance=5,prominence=1) \n",
    "        c_raster = np.zeros(len(c_series))\n",
    "        c_raster[peaks]=1\n",
    "        cc_bur = Burstiness_Index_JN(c_raster,winnum=500)\n",
    "        for k in range(N_shuffle):\n",
    "            c_raster_s = Rand_Series(int(c_raster.sum()),len(c_raster))\n",
    "            cc_bur_s = Burstiness_Index_JN(c_raster,winnum=500)\n",
    "            burstiness_rand_v2.loc[len(burstiness_rand_v2)] = [cloc_name,j+1,cc_bur_s]\n",
    "        burstiness_v2.loc[len(burstiness_v2)] = [cloc_name,j+1,cc_bur]\n",
    "        freqs_v2.append(len(peaks)*1.301/len(c_spon))\n",
    "freqs_v2 = np.array(freqs_v2)\n",
    "ot.Save_Variable(save_path,'Burstiness_V2',burstiness_v2)\n",
    "ot.Save_Variable(save_path,'Burstiness_V2_shuffle10',burstiness_rand_v2)"
   ]
  }
 ],
 "metadata": {
  "kernelspec": {
   "display_name": "caiman",
   "language": "python",
   "name": "python3"
  },
  "language_info": {
   "codemirror_mode": {
    "name": "ipython",
    "version": 3
   },
   "file_extension": ".py",
   "mimetype": "text/x-python",
   "name": "python",
   "nbconvert_exporter": "python",
   "pygments_lexer": "ipython3",
   "version": "3.10.8"
  }
 },
 "nbformat": 4,
 "nbformat_minor": 2
}
