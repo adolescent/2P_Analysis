{
 "cells": [
  {
   "cell_type": "markdown",
   "id": "e1700472",
   "metadata": {},
   "source": [
    "## Supervised/Umsupervised/Half-supervised dimension reduction through UMAP.\n",
    "## Comparation with Stim map is possible here."
   ]
  },
  {
   "cell_type": "code",
   "execution_count": 1,
   "id": "f9790c15",
   "metadata": {},
   "outputs": [],
   "source": [
    "import numpy as np\n",
    "import matplotlib.pyplot as plt\n",
    "%matplotlib inline\n",
    "import seaborn as sns\n",
    "from scipy.io import arff\n",
    "import pandas as pd\n",
    "\n",
    "mnist = np.array(pd.DataFrame(arff.loadarff(f'Fashion-MNIST.arff')[0]))\n",
    "mnist_data = mnist[:,:-1]\n",
    "mnist_label = mnist[:,-1].astype('i4')\n"
   ]
  },
  {
   "cell_type": "code",
   "execution_count": null,
   "id": "970b2803",
   "metadata": {},
   "outputs": [],
   "source": [
    "# seperate data into train and test.\n",
    "train, train_labels = mnist_data[:60000],mnist_label[:60000]\n",
    "test, test_labels = mnist_data[60000:],mnist_label[60000:]\n",
    "data = np.array(np.vstack([train, test]), dtype=np.float64) / 255.0\n",
    "target = np.hstack([train_labels, test_labels])\n",
    "classes = [\n",
    "    'T-shirt/top',\n",
    "    'Trouser',\n",
    "    'Pullover',\n",
    "    'Dress',\n",
    "    'Coat',\n",
    "    'Sandal',\n",
    "    'Shirt',\n",
    "    'Sneaker',\n",
    "    'Bag',\n",
    "    'Ankle boot']"
   ]
  },
  {
   "cell_type": "markdown",
   "id": "fddfa000",
   "metadata": {},
   "source": [
    "## First, Traditional unsupervised learning."
   ]
  },
  {
   "cell_type": "code",
   "execution_count": null,
   "id": "27a659b9",
   "metadata": {},
   "outputs": [
    {
     "ename": "",
     "evalue": "",
     "output_type": "error",
     "traceback": [
      "\u001b[1;31mCanceled future for execute_request message before replies were done"
     ]
    },
    {
     "ename": "",
     "evalue": "",
     "output_type": "error",
     "traceback": [
      "\u001b[1;31m在当前单元格或上一个单元格中执行代码时 Kernel 崩溃。请查看单元格中的代码，以确定故障的可能原因。有关详细信息，请单击 <a href='https://aka.ms/vscodeJupyterKernelCrash'>此处</a>。有关更多详细信息，请查看 Jupyter <a href='command:jupyter.viewOutput'>log</a>。"
     ]
    }
   ],
   "source": [
    "import umap\n",
    "embedding = umap.UMAP(n_neighbors=5).fit_transform(data)\n",
    "# neighbors = 5 means very local information."
   ]
  },
  {
   "cell_type": "code",
   "execution_count": null,
   "id": "e8a5c244",
   "metadata": {},
   "outputs": [],
   "source": [
    "fig, ax = plt.subplots(1, figsize=(14, 10),dpi = 300)\n",
    "plt.scatter(*embedding.T, s=0.3, c=target, cmap='Spectral', alpha=1.0)\n",
    "plt.setp(ax, xticks=[], yticks=[])\n",
    "cbar = plt.colorbar(boundaries=np.arange(11)-0.5)\n",
    "cbar.set_ticks(np.arange(10))\n",
    "cbar.set_ticklabels(classes)\n",
    "plt.title('Fashion MNIST Embedded via UMAP');"
   ]
  },
  {
   "cell_type": "markdown",
   "id": "112caf8e",
   "metadata": {},
   "source": [
    "### ↑This result is okay for unsupervised data. But still, some clusters are not seperated.\n",
    "### ↓ Supervised Learning will solve this problem"
   ]
  },
  {
   "cell_type": "code",
   "execution_count": null,
   "id": "81e948cb",
   "metadata": {},
   "outputs": [],
   "source": [
    "%%time\n",
    "# remember, bigger n-neighbor is better for supervised learning.\n",
    "embedding = umap.UMAP().fit_transform(data, y=target)\n",
    "fig, ax = plt.subplots(1, figsize=(14, 10))\n",
    "plt.scatter(*embedding.T, s=0.1, c=target, cmap='Spectral', alpha=1.0)\n",
    "plt.setp(ax, xticks=[], yticks=[])\n",
    "cbar = plt.colorbar(boundaries=np.arange(11)-0.5)\n",
    "cbar.set_ticks(np.arange(10))\n",
    "cbar.set_ticklabels(classes)\n",
    "plt.title('Fashion MNIST Embedded via UMAP using Labels');"
   ]
  },
  {
   "cell_type": "code",
   "execution_count": null,
   "id": "4b918486",
   "metadata": {},
   "outputs": [],
   "source": []
  }
 ],
 "metadata": {
  "kernelspec": {
   "display_name": "Python 3 (ipykernel)",
   "language": "python",
   "name": "python3"
  },
  "language_info": {
   "codemirror_mode": {
    "name": "ipython",
    "version": 3
   },
   "file_extension": ".py",
   "mimetype": "text/x-python",
   "name": "python",
   "nbconvert_exporter": "python",
   "pygments_lexer": "ipython3",
   "version": "3.9.12"
  }
 },
 "nbformat": 4,
 "nbformat_minor": 5
}
